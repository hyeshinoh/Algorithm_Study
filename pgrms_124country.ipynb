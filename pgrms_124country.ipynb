{
 "cells": [
  {
   "cell_type": "markdown",
   "metadata": {},
   "source": [
    "#### 접근\n",
    " - 3진법을 변형해서 접근\n",
    "     - 3으로 나눈 몫을 a로 저장하여 string으로 더해감\n",
    "     - 나머지가 0일 경우 나머지를 4으로 고치고 몫은 -1\n",
    " - 결과를 역순으로 보여줌"
   ]
  },
  {
   "cell_type": "code",
   "execution_count": 50,
   "metadata": {},
   "outputs": [],
   "source": [
    "def solution(n):\n",
    "    answer = ''\n",
    "    while n>0:\n",
    "        a = n % 3\n",
    "        n //= 3\n",
    "        if a == 0:\n",
    "            n -= 1\n",
    "            a = 4\n",
    "        answer += str(a)\n",
    "    return(answer[::-1])\n",
    "\n",
    "# answer = str(a) + answer\n",
    "# return(answer) 보다 속도가 빠르게 나옴"
   ]
  },
  {
   "cell_type": "code",
   "execution_count": 51,
   "metadata": {},
   "outputs": [
    {
     "data": {
      "text/plain": [
       "'114'"
      ]
     },
     "execution_count": 51,
     "metadata": {},
     "output_type": "execute_result"
    }
   ],
   "source": [
    "solution(15)"
   ]
  },
  {
   "cell_type": "code",
   "execution_count": null,
   "metadata": {},
   "outputs": [],
   "source": []
  }
 ],
 "metadata": {
  "kernelspec": {
   "display_name": "Python 3",
   "language": "python",
   "name": "python3"
  },
  "language_info": {
   "codemirror_mode": {
    "name": "ipython",
    "version": 3
   },
   "file_extension": ".py",
   "mimetype": "text/x-python",
   "name": "python",
   "nbconvert_exporter": "python",
   "pygments_lexer": "ipython3",
   "version": "3.6.4"
  }
 },
 "nbformat": 4,
 "nbformat_minor": 2
}
