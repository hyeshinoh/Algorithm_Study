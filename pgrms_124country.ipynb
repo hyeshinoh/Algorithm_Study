{
 "cells": [
  {
   "cell_type": "markdown",
   "metadata": {},
   "source": [
    "#### 프로그래머스(Programmers) level3 문제 - 124나라의 숫자\n",
    "- https://programmers.co.kr/learn/courses/30/lessons/12899"
   ]
  },
  {
   "cell_type": "markdown",
   "metadata": {},
   "source": [
    "#### 문제\n",
    "\n",
    "124 나라가 있습니다. 124 나라에서는 10진법이 아닌 다음과 같은 자신들만의 규칙으로 수를 표현합니다.\n",
    "\n",
    "- 124 나라에는 자연수만 존재합니다.\n",
    "- 124 나라에는 모든 수를 표현할 때 1, 2, 4만 사용합니다.\n",
    "- 예를 들어서 124 나라에서 사용하는 숫자는 다음과 같이 변환됩니다.\n",
    "\n",
    "```\n",
    "10진법\t124 나라\t\n",
    "    1\t1\t\n",
    "    2\t2\t\n",
    "    3\t4\t\n",
    "    4\t11\t\n",
    "    5\t12\t\n",
    "    6\t14\n",
    "    7\t21\n",
    "    8\t22\n",
    "    9\t24\n",
    "    10\t41\n",
    "```\n",
    "\n",
    "자연수 n이 매개변수로 주어질 때, n을 124 나라에서 사용하는 숫자로 바꾼 값을 return 하도록 solution 함수를 완성해 주세요.\n",
    "\n",
    "- 제한사항: n은 500,000,000이하의 자연수 입니다.\n",
    "\n",
    "- 입출력 예\n",
    "```\n",
    "n\tresult\n",
    "1\t1\n",
    "2\t2\n",
    "3\t4\n",
    "4\t11\n",
    "```"
   ]
  },
  {
   "cell_type": "markdown",
   "metadata": {},
   "source": [
    "#### 접근\n",
    " - 3진법을 변형해서 접근\n",
    "     - 3으로 나눈 몫을 a로 저장하여 string으로 더해감\n",
    "     - 나머지가 0일 경우 나머지를 4으로 고치고 몫은 -1\n",
    " - 결과를 역순으로 보여줌"
   ]
  },
  {
   "cell_type": "markdown",
   "metadata": {},
   "source": [
    "#### 풀이"
   ]
  },
  {
   "cell_type": "code",
   "execution_count": 1,
   "metadata": {},
   "outputs": [],
   "source": [
    "def solution(n):\n",
    "    answer = ''\n",
    "    while n>0:\n",
    "        a = n % 3\n",
    "        n //= 3\n",
    "        if a == 0:\n",
    "            n -= 1\n",
    "            a = 4\n",
    "        answer += str(a)\n",
    "    return(answer[::-1])\n",
    "\n",
    "# answer = str(a) + answer하고 return(answer) 보다 속도가 빠르게 나옴"
   ]
  },
  {
   "cell_type": "code",
   "execution_count": 51,
   "metadata": {},
   "outputs": [
    {
     "data": {
      "text/plain": [
       "'114'"
      ]
     },
     "execution_count": 51,
     "metadata": {},
     "output_type": "execute_result"
    }
   ],
   "source": [
    "solution(15)"
   ]
  }
 ],
 "metadata": {
  "kernelspec": {
   "display_name": "Python 3",
   "language": "python",
   "name": "python3"
  },
  "language_info": {
   "codemirror_mode": {
    "name": "ipython",
    "version": 3
   },
   "file_extension": ".py",
   "mimetype": "text/x-python",
   "name": "python",
   "nbconvert_exporter": "python",
   "pygments_lexer": "ipython3",
   "version": "3.6.4"
  }
 },
 "nbformat": 4,
 "nbformat_minor": 2
}
