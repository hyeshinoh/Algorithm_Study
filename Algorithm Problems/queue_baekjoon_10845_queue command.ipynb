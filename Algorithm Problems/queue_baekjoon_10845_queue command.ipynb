{
 "cells": [
  {
   "cell_type": "markdown",
   "metadata": {},
   "source": [
    "#### BAEKJOON 10845번 문제\n",
    "https://www.acmicpc.net/problem/10845"
   ]
  },
  {
   "cell_type": "markdown",
   "metadata": {},
   "source": [
    "### 문제\n",
    "정수를 저장하는 큐를 구현한 다음, 입력으로 주어지는 명령을 처리하는 프로그램을 작성하시오.\n",
    "\n",
    "명령은 총 여섯 가지이다.\n",
    "\n",
    "- push X: 정수 X를 큐에 넣는 연산이다.\n",
    "- pop: 큐에서 가장 앞에 있는 정수를 빼고, 그 수를 출력한다. 만약 큐에 들어있는 정수가 없는 경우에는 -1을 출력한다.\n",
    "- size: 큐에 들어있는 정수의 개수를 출력한다.\n",
    "- empty: 큐가 비어있으면 1, 아니면 0을 출력한다.\n",
    "- front: 큐의 가장 앞에 있는 정수를 출력한다. 만약 큐에 들어있는 정수가 없는 경우에는 -1을 출력한다.\n",
    "- back: 큐의 가장 뒤에 있는 정수를 출력한다. 만약 큐에 들어있는 정수가 없는 경우에는 -1을 출력한다."
   ]
  },
  {
   "cell_type": "markdown",
   "metadata": {},
   "source": [
    "#### 입력\n",
    "첫째 줄에 주어지는 명령의 수 N (1 ≤ N ≤ 10,000)이 주어진다. 둘째 줄부터 N개의 줄에는 명령이 하나씩 주어진다. 주어지는 정수는 1보다 크거나 같고, 100,000보다 작거나 같다. 문제에 나와있지 않은 명령이 주어지는 경우는 없다.\n",
    "\n",
    "#### 출력\n",
    "출력해야하는 명령이 주어질 때마다, 한 줄에 하나씩 출력한다."
   ]
  },
  {
   "cell_type": "markdown",
   "metadata": {},
   "source": [
    "#### 예제 입력 1 \n",
    "```\n",
    "15\n",
    "push 1\n",
    "push 2\n",
    "front\n",
    "back\n",
    "size\n",
    "empty\n",
    "pop\n",
    "pop\n",
    "pop\n",
    "size\n",
    "empty\n",
    "pop\n",
    "push 3\n",
    "empty\n",
    "front\n",
    "```"
   ]
  },
  {
   "cell_type": "markdown",
   "metadata": {},
   "source": [
    "#### 예제 출력 1 \n",
    "```\n",
    "1   - front of [1, 2]\n",
    "2   - back of [1, 2]\n",
    "2   - size of [1, 2]\n",
    "0   - empty of [1, 2]\n",
    "1   - pop of [1, 2]\n",
    "2   - pop of [2]\n",
    "-1  - pop of []\n",
    "0   - size of []\n",
    "1   - empty of []\n",
    "-1  - pop of []\n",
    "0   - empty of [3]\n",
    "3   - front of [3]\n",
    "```"
   ]
  },
  {
   "cell_type": "code",
   "execution_count": null,
   "metadata": {},
   "outputs": [],
   "source": [
    "que = []\n",
    "for _ in range(int(input())):\n",
    "    cmd = input()\n",
    "    if cmd[1] == 'u':\n",
    "        que.append(int(cmd.split()[1]))\n",
    "    elif cmd == 'pop':\n",
    "        print(-1) if len(que) == 0 else print(que.pop(0))        \n",
    "    elif cmd == 'size':\n",
    "        print(len(que))\n",
    "    elif cmd == 'empty':\n",
    "        print(1) if len(que) == 0 else print(0)\n",
    "    elif cmd == 'front':\n",
    "        print(-1) if len(que) == 0 else print(que[0])\n",
    "    else:\n",
    "        print(-1) if len(que) == 0 else print(que[-1])"
   ]
  },
  {
   "cell_type": "code",
   "execution_count": null,
   "metadata": {},
   "outputs": [],
   "source": []
  }
 ],
 "metadata": {
  "kernelspec": {
   "display_name": "Python 3",
   "language": "python",
   "name": "python3"
  },
  "language_info": {
   "codemirror_mode": {
    "name": "ipython",
    "version": 3
   },
   "file_extension": ".py",
   "mimetype": "text/x-python",
   "name": "python",
   "nbconvert_exporter": "python",
   "pygments_lexer": "ipython3",
   "version": "3.6.4"
  }
 },
 "nbformat": 4,
 "nbformat_minor": 2
}
