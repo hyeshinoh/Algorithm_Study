{
 "cells": [
  {
   "cell_type": "markdown",
   "metadata": {},
   "source": [
    "#### BAEKJOON 1966번\n",
    "https://www.acmicpc.net/short/status/1966"
   ]
  },
  {
   "cell_type": "markdown",
   "metadata": {},
   "source": [
    "### 문제\n",
    "보통의 프린터 기기는 문서를 인쇄 명령을 받은 ‘순서대로’, 즉 먼저 요청된 것을 먼저 인쇄한다. 여러 개의 문서가 쌓인다면 Queue 자료구조에 쌓여서 FIFO - First In First Out - 에 따라 인쇄가 되게 된다. 하지만 상근이가 개발한 새로운 프린터 내부 소프트웨어는 다음과 같은 조건에 따라 인쇄를 하게 된다.\n",
    "\n",
    "1. 현재 Queue의 가장 앞에 있는 문서의 ‘중요도’를 확인한다.\n",
    "2. 나머지 문서들 중 현재 문서보다 중요도가 높은 문서가 하나라도 있다면, 이 문서를 인쇄하지 않고 Queue의 가장 뒤에 재배치 한다. 그렇지 않다면 바로 인쇄를 한다.\n",
    "\n",
    "예를 들어 Queue에 4개의 문서(A B C D)가 있고, 중요도가 2 1 4 3 라면 C를 인쇄하고, 다음으로 D를 인쇄하고 A, B를 인쇄하게 된다.\n",
    "\n",
    "여러분이 할 일은, 현재 Queue에 있는 문서의 수와 중요도가 주어졌을 때, 어떤 한 문서가 몇 번째로 인쇄되는지 알아내는 것이다. 예를 들어 위의 예에서 C문서는 1번째로, A문서는 3번째로 인쇄되게 된다."
   ]
  },
  {
   "cell_type": "markdown",
   "metadata": {},
   "source": [
    "#### 입력\n",
    "- 첫 줄에 test case의 수가 주어진다. \n",
    "- 각 test case에 대해서 문서의 수 N(100이하)와 몇 번째로 인쇄되었는지 궁금한 문서가 현재 Queue의 어떤 위치에 있는지를 알려주는 M(0이상 N미만)이 주어진다. \n",
    "- 다음줄에 N개 문서의 중요도가 주어지는데, 중요도는 적절한 범위의 int형으로 주어진다. 중요도가 같은 문서가 여러 개 있을 수도 있다. 위의 예는 N=4, M=0(A문서가 궁금하다면), 중요도는 2 1 4 3이 된다.\n",
    "\n",
    "#### 출력\n",
    "- 각 test case에 대해 문서가 몇 번째로 인쇄되는지 출력한다."
   ]
  },
  {
   "cell_type": "markdown",
   "metadata": {},
   "source": [
    "#### 예제 입력 1 \n",
    "```\n",
    "3           (test case는 3개)\n",
    "1 0         (case1: 문서 수 1개, 0번째 문서)\n",
    "5           (case1: 중요도 5)\n",
    "4 2         (case2: 문서 수 4개, 2번째 문서)\n",
    "1 2 3 4     (case2: 중요도 1 2 3 4)\n",
    "6 0         (case3: 문서 수 6개, 0번째 문서)\n",
    "1 1 9 1 1 1 (case3: 중요도 1 1 9 1 1 1)\n",
    "```"
   ]
  },
  {
   "cell_type": "markdown",
   "metadata": {},
   "source": [
    "#### 예제 출력 1 \n",
    "```\n",
    "1     (case1 0번째 문서는 1번으로 출력됨)\n",
    "2     (case2 2번째 문서는 2번으로 출력됨)\n",
    "5     (case3 0번째 문서는 5번으로 출력됨)\n",
    "```"
   ]
  },
  {
   "cell_type": "markdown",
   "metadata": {},
   "source": [
    "#### 접근\n",
    "- 중요도가 같은 값이 있을 수 있기 때문에 정렬해서 순서를 뽑아낼 수는 없음\n",
    "    - test 문서의 위치를 표시('T')하는 chk list를 만듦\n",
    "- 0번째 문서의 중요도가 최대값이고 'T'일 경우 답\n",
    "- 0번째 문서의 중요도가 최대값이지만 'T'가 아닐경우 인쇄: `pop(0)`\n",
    "- 아닐 경우 맨 끝 순서로 보냄: `pop(0)`을 `append`"
   ]
  },
  {
   "cell_type": "code",
   "execution_count": 2,
   "metadata": {},
   "outputs": [
    {
     "name": "stdout",
     "output_type": "stream",
     "text": [
      "1\n",
      "2\n",
      "5\n"
     ]
    }
   ],
   "source": [
    "for _ in range(int(input())):                       # test case 수 만큼 입력과 풀이을 반복\n",
    "    n, m = map(int, input().split(' '))             # 입력: 문서의 수 n, 관심문서 위치 m\n",
    "    que = list(map(int, input().split(' ')))        # 입력: 중요도 list, que\n",
    "    chk = ['T' if i == m else 0 for i in range(n)]  # 관심 문서 위치를 'T'로 나타내는 list, chk\n",
    "\n",
    "    count = 0\n",
    "    while True:\n",
    "        if que[0] == max(que):\n",
    "            count += 1\n",
    "            if chk[0] == 'T':\n",
    "                print(count)\n",
    "                break\n",
    "            else:\n",
    "                que.pop(0)\n",
    "                chk.pop(0)\n",
    "        else:\n",
    "            que.append(que.pop(0))\n",
    "            chk.append(chk.pop(0))"
   ]
  },
  {
   "cell_type": "code",
   "execution_count": null,
   "metadata": {},
   "outputs": [],
   "source": []
  }
 ],
 "metadata": {
  "kernelspec": {
   "display_name": "Python 3",
   "language": "python",
   "name": "python3"
  },
  "language_info": {
   "codemirror_mode": {
    "name": "ipython",
    "version": 3
   },
   "file_extension": ".py",
   "mimetype": "text/x-python",
   "name": "python",
   "nbconvert_exporter": "python",
   "pygments_lexer": "ipython3",
   "version": "3.6.4"
  }
 },
 "nbformat": 4,
 "nbformat_minor": 2
}
