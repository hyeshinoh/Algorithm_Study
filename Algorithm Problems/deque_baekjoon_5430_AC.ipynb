{
 "cells": [
  {
   "cell_type": "markdown",
   "metadata": {},
   "source": [
    "#### BAEKJOON 5430번 문제 - AC\n",
    "https://www.acmicpc.net/problem/5430"
   ]
  },
  {
   "cell_type": "markdown",
   "metadata": {},
   "source": [
    "### 문제\n",
    "선영이는 주말에 할 일이 없어서 새로운 언어 AC를 만들었다. AC는 정수 배열에 연산을 하기 위해 만든 언어이다. 이 언어에는 두 가지 함수 R(뒤집기)과 D(버리기)가 있다.\n",
    "\n",
    "함수 R은 배열에 있는 숫자의 순서를 뒤집는 함수이고, D는 첫 번째 숫자를 버리는 함수이다. 배열이 비어있는데 D를 사용한 경우에는 에러가 발생한다.\n",
    "\n",
    "함수는 조합해서 한 번에 사용할 수 있다. 예를 들어, \"AB\"는 A를 수행한 다음에 바로 이어서 B를 수행하는 함수이다. 예를 들어, \"RDD\"는 배열을 뒤집은 다음 처음 두 숫자를 버리는 함수이다.\n",
    "\n",
    "배열의 초기값과 수행할 함수가 주어졌을 때, 최종 결과를 구하는 프로그램을 작성하시오."
   ]
  },
  {
   "cell_type": "markdown",
   "metadata": {},
   "source": [
    "#### 입력\n",
    "- 첫째 줄에 테스트 케이스의 개수 T가 주어진다. T는 최대 100이다.\n",
    "- 각 테스트 케이스의 첫째 줄에는 수행할 함수 p가 주어진다. p의 길이는 1보다 크거나 같고, 100,000보다 작거나 같다.\n",
    "- 다음 줄에는 배열에 들어있는 수의 개수 n이 주어진다. (0 ≤ n ≤ 100,000)\n",
    "- 다음 줄에는 `[x1,...,xn]`과 같은 형태로 배열에 들어있는 수가 주어진다. (1 ≤ xi ≤ 100)\n",
    "\n",
    "#### 출력\n",
    "각 테스트 케이스에 대해서, 입력으로 주어진 정수 배열에 함수를 수행한 결과를 출력한다. 만약, 에러가 발생한 경우에는 error를 출력한다."
   ]
  },
  {
   "cell_type": "markdown",
   "metadata": {},
   "source": [
    "#### 예제 입력 1 \n",
    "```\n",
    "4\n",
    "RDD\n",
    "4\n",
    "[1,2,3,4]\n",
    "DD\n",
    "1\n",
    "[42]\n",
    "RRD\n",
    "6\n",
    "[1,1,2,3,5,8]\n",
    "D\n",
    "0\n",
    "[]\n",
    "```\n",
    "#### 예제 출력 1\n",
    "```\n",
    "[2,1]\n",
    "error\n",
    "[1,2,3,5,8]\n",
    "error\n",
    "```"
   ]
  },
  {
   "cell_type": "markdown",
   "metadata": {},
   "source": [
    "### 풀이 1\n",
    "- func를 하나씩 for문으로 돌려서 R(reverse)와 D(delete) 명령 실행\n",
    "- 결과: 시간초과"
   ]
  },
  {
   "cell_type": "code",
   "execution_count": 3,
   "metadata": {},
   "outputs": [
    {
     "name": "stdout",
     "output_type": "stream",
     "text": [
      "[2, 1]\n",
      "error\n",
      "[1, 2, 3, 5, 8]\n",
      "error\n"
     ]
    }
   ],
   "source": [
    "for _ in range(int(input())):\n",
    "    func = input()\n",
    "    len_ls = int(input())\n",
    "    ls = [int(a) for a in input() if a not in ',[]']\n",
    "    for c in func:\n",
    "        if len(ls) == 0:\n",
    "            break\n",
    "        elif c == 'R':\n",
    "            ls.reverse()\n",
    "        elif c == 'D':\n",
    "            ls.pop(0)\n",
    "\n",
    "    if len(ls) == 0:\n",
    "        print(\"error\")\n",
    "    else:\n",
    "        print(ls) "
   ]
  },
  {
   "cell_type": "markdown",
   "metadata": {},
   "source": [
    "### 풀이 2\n",
    "- 함수가 길어질 경우 R(reverse)를 반복하는 것을 피하기 위해\n",
    "    - 처음 명령문 func에서 \"R\"의 개수를 count해서 \n",
    "    - 마지막에 홀수면 ls에 R(reverse)해서 호출, 짝수면 그대로 호출\n",
    "- 반복문에서는 \n",
    "    - func에서 첫번째 D를 찾고 그 앞의 R의 개수를 count해서\n",
    "    - 짝수면 `ls.pop(0)`, 홀수면 `ls.pop()'하고\n",
    "    - 첫번째 \"D\"를 삭제\n",
    "- 결과: 그래도 시간초과"
   ]
  },
  {
   "cell_type": "code",
   "execution_count": 2,
   "metadata": {},
   "outputs": [
    {
     "name": "stdout",
     "output_type": "stream",
     "text": [
      "[2, 1]\n",
      "error\n",
      "[1, 2, 3, 5, 8]\n",
      "error\n"
     ]
    }
   ],
   "source": [
    "for _ in range(int(input())):\n",
    "    func = input()\n",
    "    len_ls = int(input())\n",
    "    ls = [int(a) for a in input() if a not in ',[]']\n",
    "    r = func.count(\"R\")\n",
    "    \n",
    "    while func.find(\"D\") >= 0:\n",
    "        if len(ls) == 0 or func.find(\"D\") == -1:\n",
    "            break\n",
    "        else: \n",
    "            ls.pop(0) if func.find(\"D\") % 2 == 0 else ls.pop()\n",
    "        func = func.replace(\"D\", '', 1)\n",
    "\n",
    "    if len(ls) == 0:\n",
    "        print(\"error\")\n",
    "    else:\n",
    "        print(ls) if r % 2 == 0 else print(ls[::-1])"
   ]
  },
  {
   "cell_type": "markdown",
   "metadata": {},
   "source": [
    "#### 시간 줄이기 위한 추가 아이디어\n",
    "- ls길이보다 func의 \"D\"의 개수(`func.count(\"D\")`)가 많으면 바로 error\n",
    "    - 위에 풀이에서 쓰지 않았던 입력값-배열에 들어있는 수의 개수 n-을 사용할 수 있음\n",
    "- d_front 횟수와 d_back 횟수를 count해서 마지막에 한번에 ls에서 indexing"
   ]
  },
  {
   "cell_type": "code",
   "execution_count": null,
   "metadata": {},
   "outputs": [],
   "source": [
    "# 첫번째 아이디어 적용해도 시간초과\n",
    "\n",
    "for _ in range(int(input())):\n",
    "    func = input()\n",
    "    len_ls = int(input())\n",
    "    ls = [int(a) for a in input() if a not in ',[]']\n",
    "    r = func.count(\"R\")\n",
    "    d = len(func)-r\n",
    "    \n",
    "    if d <= len_ls:    \n",
    "        while func.find(\"D\") >= 0:\n",
    "            if len(ls) == 0 or func.find(\"D\") == -1:\n",
    "                break\n",
    "            else: \n",
    "                ls.pop(0) if func.find(\"D\") % 2 == 0 else ls.pop()\n",
    "            func = func.replace(\"D\", '', 1)\n",
    "\n",
    "        if len(ls) == 0:\n",
    "            print(\"error\")\n",
    "        else:\n",
    "            print(ls) if r % 2 == 0 else print(ls[::-1])\n",
    "    else: \n",
    "        print(\"error\")"
   ]
  },
  {
   "cell_type": "code",
   "execution_count": null,
   "metadata": {},
   "outputs": [],
   "source": []
  }
 ],
 "metadata": {
  "kernelspec": {
   "display_name": "Python 3",
   "language": "python",
   "name": "python3"
  },
  "language_info": {
   "codemirror_mode": {
    "name": "ipython",
    "version": 3
   },
   "file_extension": ".py",
   "mimetype": "text/x-python",
   "name": "python",
   "nbconvert_exporter": "python",
   "pygments_lexer": "ipython3",
   "version": "3.6.4"
  }
 },
 "nbformat": 4,
 "nbformat_minor": 2
}
