{
 "cells": [
  {
   "cell_type": "markdown",
   "metadata": {},
   "source": [
    "#### 코딩도장 408번 문제\n",
    "- 링크 (http://codingdojang.com/scode/408?answer_mode=hide)"
   ]
  },
  {
   "cell_type": "markdown",
   "metadata": {},
   "source": [
    "### 문제 \n",
    "(다음 입사문제 중에서)\n",
    "\n",
    "1차원의 점들이 주어졌을 때, 그 중 가장 거리가 짧은 것의 쌍을 출력하는 함수를 작성하시오. \n",
    "(단 점들의 배열은 모두 정렬되어있다고 가정한다.)\n",
    "\n",
    "예를들어 S={1, 3, 4, 8, 13, 17, 20} 이 주어졌다면, 결과값은 (3, 4)가 될 것이다."
   ]
  },
  {
   "cell_type": "markdown",
   "metadata": {},
   "source": [
    "#### 접근\n",
    "- 반복문으로 하면 너무 복잡해질 것\n",
    "- list를 받고 `list[1:]` 를 구해서 zip으로 묶고 그 쌍의 차이를 구하면 좋을 것 같음\n",
    "- list comprehension으로 길이를 list로 받기?\n",
    "     - 길이 짧은 것의 pair를 돌려주는 방법은? - 길이를 계산해서 정렬 / 길이를 key로 정렬"
   ]
  },
  {
   "cell_type": "markdown",
   "metadata": {},
   "source": [
    "#### 풀이 1\n",
    "- list comprehension을 이용해서 한번에 (거리, a, b)의 리스트를 만들고\n",
    "- 거리로 sorted하고 0번째 값의 (a, b)를 호출"
   ]
  },
  {
   "cell_type": "code",
   "execution_count": 37,
   "metadata": {},
   "outputs": [
    {
     "data": {
      "text/plain": [
       "(3, 4)"
      ]
     },
     "execution_count": 37,
     "metadata": {},
     "output_type": "execute_result"
    }
   ],
   "source": [
    "ls = [1, 3, 4, 8, 13, 17, 20]\n",
    "sorted(list((- a + b, a, b) for a, b in zip(ls, ls[1:])))[0][1:]"
   ]
  },
  {
   "cell_type": "markdown",
   "metadata": {},
   "source": [
    "#### 풀이 2\n",
    "- ls와 `ls[1:]`을 zip해서 (a, b)의 리스트 'pair'를 만들고\n",
    "- b-a를 key로 sort하고 0번째 pair를 호출"
   ]
  },
  {
   "cell_type": "code",
   "execution_count": 3,
   "metadata": {},
   "outputs": [
    {
     "name": "stdout",
     "output_type": "stream",
     "text": [
      "(3, 4)\n"
     ]
    }
   ],
   "source": [
    "ls = [1, 3, 4, 8, 13, 17, 20]\n",
    "pair = list(zip(ls, ls[1:]))\n",
    "pair.sort(key = lambda tup: tup[1] - tup[0])\n",
    "print(pair[0])"
   ]
  },
  {
   "cell_type": "code",
   "execution_count": 2,
   "metadata": {},
   "outputs": [
    {
     "data": {
      "text/plain": [
       "(3, 4)"
      ]
     },
     "execution_count": 2,
     "metadata": {},
     "output_type": "execute_result"
    }
   ],
   "source": [
    "ls = [1, 3, 4, 8, 13, 17, 20]\n",
    "pair = list(zip(ls, ls[1:]))\n",
    "sorted(pair, key=lambda tup: tup[1] - tup[0])[0]"
   ]
  }
 ],
 "metadata": {
  "kernelspec": {
   "display_name": "Python 3",
   "language": "python",
   "name": "python3"
  },
  "language_info": {
   "codemirror_mode": {
    "name": "ipython",
    "version": 3
   },
   "file_extension": ".py",
   "mimetype": "text/x-python",
   "name": "python",
   "nbconvert_exporter": "python",
   "pygments_lexer": "ipython3",
   "version": "3.6.4"
  }
 },
 "nbformat": 4,
 "nbformat_minor": 2
}
