{
 "cells": [
  {
   "cell_type": "markdown",
   "metadata": {},
   "source": [
    "#### BAEKJOON 1427번 문제: 소트인사이드\n",
    "- https://www.acmicpc.net/problem/1427"
   ]
  },
  {
   "cell_type": "markdown",
   "metadata": {},
   "source": [
    "### 문제\n",
    "배열을 정렬하는 것은 쉽다. 수가 주어지면, 그 수의 각 자리수를 내림차순으로 정렬해보자.\n",
    "\n",
    "#### 입력\n",
    "첫째 줄에 정렬하고자하는 수 N이 주어진다. N은 1,000,000,000보다 작거나 같은 자연수이다.\n",
    "\n",
    "#### 출력\n",
    "첫째 줄에 자리수를 내림차순으로 정렬한 수를 출력한다.\n",
    "\n",
    "#### 예제 입력 1 \n",
    "2143\n",
    "#### 예제 출력 1 \n",
    "4321"
   ]
  },
  {
   "cell_type": "markdown",
   "metadata": {},
   "source": [
    "### 풀이\n",
    "- 결과: 통과!"
   ]
  },
  {
   "cell_type": "code",
   "execution_count": null,
   "metadata": {},
   "outputs": [],
   "source": [
    "num = [int(i) for i in input()]\n",
    "for i in range(len(num)-1):\n",
    "    for j in range(i+1, len(num)):\n",
    "        if num[j] == max(num[i:]):\n",
    "            num[i], num[j] = num[j], num[i]\n",
    "print(''.join([str(i) for i in num]))"
   ]
  }
 ],
 "metadata": {
  "kernelspec": {
   "display_name": "Python 3",
   "language": "python",
   "name": "python3"
  },
  "language_info": {
   "codemirror_mode": {
    "name": "ipython",
    "version": 3
   },
   "file_extension": ".py",
   "mimetype": "text/x-python",
   "name": "python",
   "nbconvert_exporter": "python",
   "pygments_lexer": "ipython3",
   "version": "3.6.4"
  }
 },
 "nbformat": 4,
 "nbformat_minor": 2
}
