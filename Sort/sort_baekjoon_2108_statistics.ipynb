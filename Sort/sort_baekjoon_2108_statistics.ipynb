{
 "cells": [
  {
   "cell_type": "markdown",
   "metadata": {},
   "source": [
    "#### BAEKJOON 2108번 문제: 통계학\n",
    "- https://www.acmicpc.net/problem/2108"
   ]
  },
  {
   "cell_type": "markdown",
   "metadata": {},
   "source": [
    "### 문제\n",
    "수를 처리하는 것은 통계학에서 상당히 중요한 일이다. 통계학에서 N개의 수를 대표하는 기본 통계값에는 다음과 같은 것들이 있다. 단, N은 홀수라고 가정하자.\n",
    "\n",
    "- 산술평균 : N개의 수들의 합을 N으로 나눈 값\n",
    "- 중앙값 : N개의 수들을 증가하는 순서로 나열했을 경우 그 중앙에 위치하는 값\n",
    "- 최빈값 : N개의 수들 중 가장 많이 나타나는 값\n",
    "- 범위 : N개의 수들 중 최대값과 최소값의 차이\n",
    "\n",
    "N개의 수가 주어졌을 때, 네 가지 기본 통계값을 구하는 프로그램을 작성하시오.\n",
    "\n",
    "#### 입력\n",
    "- 첫째 줄에 수의 개수 N(1 ≤ N ≤ 500,000)이 주어진다. \n",
    "- 그 다음 N개의 줄에는 정수들이 주어진다. 입력되는 정수의 절대값은 4,000을 넘지 않는다.\n",
    "\n",
    "#### 출력\n",
    "- 첫째 줄에는 산술평균을 출력한다. 소수점 이하 첫째 자리에서 반올림한 값을 출력한다.\n",
    "- 둘째 줄에는 중앙값을 출력한다.\n",
    "- 셋째 줄에는 최빈값을 출력한다. 여러 개 있을 때에는 최빈값 중 두 번째로 작은 값을 출력한다.\n",
    "- 넷째 줄에는 범위를 출력한다."
   ]
  },
  {
   "cell_type": "markdown",
   "metadata": {},
   "source": [
    "### 풀이\n",
    "- 결과: 시간 초과 ㅜ"
   ]
  },
  {
   "cell_type": "code",
   "execution_count": 25,
   "metadata": {},
   "outputs": [
    {
     "name": "stdout",
     "output_type": "stream",
     "text": [
      "-2\n",
      "-2\n",
      "-1\n",
      "2\n"
     ]
    }
   ],
   "source": [
    "ls = []\n",
    "for _ in range(int(input())):\n",
    "    ls.append(int(input()))\n",
    "\n",
    "print(sum(ls)//len(ls))\n",
    "\n",
    "for i in range(len(ls)-1):\n",
    "    for j in range(i+1, len(ls)):\n",
    "        if ls[j] == min(ls[i:]):\n",
    "            ls[i], ls[j] = ls[j], ls[i]\n",
    "print(ls[len(ls)//2])\n",
    "\n",
    "count = {}\n",
    "for j in ls:\n",
    "    if j not in count:\n",
    "        count[j] = 1\n",
    "    elif j in count:\n",
    "        count[j] += 1\n",
    "\n",
    "mode = []\n",
    "for k, v in count.items():\n",
    "    if v == max(count.values()):\n",
    "        mode.append(k)\n",
    "if len(mode) > 1:\n",
    "    print(mode[1])\n",
    "else:\n",
    "    print(mode[0])\n",
    "\n",
    "print(max(ls)-min(ls))"
   ]
  }
 ],
 "metadata": {
  "kernelspec": {
   "display_name": "Python 3",
   "language": "python",
   "name": "python3"
  },
  "language_info": {
   "codemirror_mode": {
    "name": "ipython",
    "version": 3
   },
   "file_extension": ".py",
   "mimetype": "text/x-python",
   "name": "python",
   "nbconvert_exporter": "python",
   "pygments_lexer": "ipython3",
   "version": "3.6.4"
  }
 },
 "nbformat": 4,
 "nbformat_minor": 2
}
