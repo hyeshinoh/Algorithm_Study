{
 "cells": [
  {
   "cell_type": "markdown",
   "metadata": {},
   "source": [
    "#### BAEKJOON 2750번/2751번/10989번 문제: 수 정렬\n",
    "- https://www.acmicpc.net/problem/2750\n",
    "- https://www.acmicpc.net/problem/2751\n",
    "- https://www.acmicpc.net/problem/10989"
   ]
  },
  {
   "cell_type": "markdown",
   "metadata": {},
   "source": [
    "### 문제\n",
    "N개의 수가 주어졌을 때, 이를 오름차순으로 정렬하는 프로그램을 작성하시오.\n",
    "\n",
    "#### 입력\n",
    "첫째 줄에 수의 개수 N(1 ≤ N ≤ 1,000)이 주어진다. 둘째 줄부터 N개의 줄에는 숫자가 주어진다. 이 수는 절대값이 1,000보다 작거나 같은 정수이다. 수는 중복되지 않는다.\n",
    "\n",
    "#### 출력\n",
    "첫째 줄부터 N개의 줄에 오름차순으로 정렬한 결과를 한 줄에 하나씩 출력한다."
   ]
  },
  {
   "cell_type": "markdown",
   "metadata": {},
   "source": [
    "#### 예제 입력 1 \n",
    "```\n",
    "5\n",
    "5\n",
    "2\n",
    "3\n",
    "4\n",
    "1\n",
    "```"
   ]
  },
  {
   "cell_type": "markdown",
   "metadata": {},
   "source": [
    "#### 예제 출력 1 \n",
    "```\n",
    "1\n",
    "2\n",
    "3\n",
    "4\n",
    "5\n",
    "```"
   ]
  },
  {
   "cell_type": "markdown",
   "metadata": {},
   "source": [
    "#### 풀이 1: 선택 정렬 방법 (for 2950번)\n",
    "- 시간 초과 ㅜ"
   ]
  },
  {
   "cell_type": "code",
   "execution_count": null,
   "metadata": {},
   "outputs": [],
   "source": [
    "ls = []\n",
    "for _ in range(int(input())):\n",
    "    ls.append(int(input()))\n",
    "    \n",
    "for i in range(len(ls)-1):\n",
    "    for j in range(i+1, len(ls)):\n",
    "        if ls[j] == min(ls[i:]):\n",
    "            ls[i], ls[j] = ls[j], ls[i]\n",
    "\n",
    "for item in ls:\n",
    "    print(item)"
   ]
  },
  {
   "cell_type": "markdown",
   "metadata": {},
   "source": [
    "#### 풀이 2: 퀵 정렬 방법 (for 2951번)\n",
    "- 시간 초과 ㅜ"
   ]
  },
  {
   "cell_type": "code",
   "execution_count": 29,
   "metadata": {},
   "outputs": [
    {
     "name": "stdout",
     "output_type": "stream",
     "text": [
      "1\n",
      "2\n",
      "4\n",
      "4\n",
      "6\n",
      "8\n",
      "9\n"
     ]
    }
   ],
   "source": [
    "ls = []\n",
    "for _ in range(int(input())):\n",
    "    ls.append(int(input()))\n",
    "\n",
    "def quick_sort(list):\n",
    "    if len(list) < 2:       \n",
    "        return list\n",
    "    else:\n",
    "        pivot = list[0]\n",
    "        less = [i for i in list[1:] if i <= pivot]\n",
    "        greater = [i for i in list[1:] if i > pivot]\n",
    "        return quick_sort(less) + [pivot] + quick_sort(greater)   \n",
    "\n",
    "ls = quick_sort(ls)\n",
    "    \n",
    "for i in ls: \n",
    "    print(i)    "
   ]
  }
 ],
 "metadata": {
  "kernelspec": {
   "display_name": "Python 3",
   "language": "python",
   "name": "python3"
  },
  "language_info": {
   "codemirror_mode": {
    "name": "ipython",
    "version": 3
   },
   "file_extension": ".py",
   "mimetype": "text/x-python",
   "name": "python",
   "nbconvert_exporter": "python",
   "pygments_lexer": "ipython3",
   "version": "3.6.4"
  }
 },
 "nbformat": 4,
 "nbformat_minor": 2
}
