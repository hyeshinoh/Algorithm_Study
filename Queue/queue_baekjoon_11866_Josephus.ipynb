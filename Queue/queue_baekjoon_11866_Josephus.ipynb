{
 "cells": [
  {
   "cell_type": "markdown",
   "metadata": {},
   "source": [
    "#### BAEKJOON 11866번 문제\n",
    "https://www.acmicpc.net/problem/11866"
   ]
  },
  {
   "cell_type": "markdown",
   "metadata": {},
   "source": [
    "### 문제\n",
    "조세퍼스 문제는 다음과 같다.\n",
    "\n",
    "1번부터 N번까지 N명의 사람이 원을 이루면서 앉아있고, 양의 정수 M(≤ N)이 주어진다. 이제 순서대로 M번째 사람을 제거한다. 한 사람이 제거되면 남은 사람들로 이루어진 원을 따라 이 과정을 계속해 나간다. 이 과정은 N명의 사람이 모두 제거될 때까지 계속된다. 원에서 사람들이 제거되는 순서를 (N, M)-조세퍼스 순열이라고 한다. 예를 들어 (7, 3)-조세퍼스 순열은 <3, 6, 2, 7, 5, 1, 4>이다.\n",
    "\n",
    "N과 M이 주어지면 (N,M)-조세퍼스 순열을 구하는 프로그램을 작성하시오."
   ]
  },
  {
   "cell_type": "markdown",
   "metadata": {},
   "source": [
    "- 입력: 첫째 줄에 N과 M이 빈 칸을 사이에 두고 순서대로 주어진다. (1 ≤ M ≤ N ≤ 1,000)\n",
    "- 출력: 예제와 같이 조세퍼스 순열을 출력한다."
   ]
  },
  {
   "cell_type": "markdown",
   "metadata": {},
   "source": [
    "- 예제 입력 1 \n",
    "`7 3`\n",
    "\n",
    "- 예제 출력 1 \n",
    "`<3, 6, 2, 7, 5, 1, 4>`"
   ]
  },
  {
   "cell_type": "markdown",
   "metadata": {},
   "source": [
    "#### 접근\n",
    "- 1부터 n까지의 list를 만듦\n",
    "- count 변수를 만들어서 1씩 증가시키면서 m번째가 아니면(count != m) pop and append, m번째(count == m)에는 pop하여 result list 에 append"
   ]
  },
  {
   "cell_type": "markdown",
   "metadata": {},
   "source": [
    "##### 단, 아래와 같이 출력을 조세퍼스 순열 list로 출력했을 때는 백준에서는  \"틀렸습니다\" 처리함"
   ]
  },
  {
   "cell_type": "code",
   "execution_count": 31,
   "metadata": {},
   "outputs": [
    {
     "name": "stdout",
     "output_type": "stream",
     "text": [
      "7 3\n",
      "[3, 6, 2, 7, 5, 1, 4]\n"
     ]
    }
   ],
   "source": [
    "n, m = map(int, input().split())         # n과 m 입력 받음\n",
    "que = [i for i in range(1, n+1)]         # 1부터 n까지 list 생성\n",
    "result = []                             \n",
    "count = 0             \n",
    "while len(que) > 0:  \n",
    "    count += 1\n",
    "    if count == m:\n",
    "        result.append(que.pop(0))\n",
    "        count = 0\n",
    "    else:\n",
    "        que.append(que.pop(0))\n",
    "\n",
    "print(result)"
   ]
  },
  {
   "cell_type": "markdown",
   "metadata": {},
   "source": [
    "##### 아래와 같이 출력 form을 <2, 4, 1 ~> 형태로 하기 위해 result를 string type으로 받으면 정답처리"
   ]
  },
  {
   "cell_type": "code",
   "execution_count": 34,
   "metadata": {},
   "outputs": [
    {
     "name": "stdout",
     "output_type": "stream",
     "text": [
      "7 3\n",
      "<3, 6, 2, 7, 5, 1, 4>\n"
     ]
    }
   ],
   "source": [
    "n, m = map(int, input().split())          # n과 m 입력 받음\n",
    "que = [i for i in range(1, n+1)]         # 1부터 n까지 list 생성\n",
    "result = \"<\"                             # 출력 form을 맞췆기 위해 result를 string으로 둠\n",
    "count = 0             \n",
    "while len(que) > 0:  \n",
    "    count += 1\n",
    "    if count == m:\n",
    "        result += str(que.pop(0))\n",
    "        if len(que) == 0: break          # 마지막 result 뒤에는 \",\"를 붙이지 않기 위함\n",
    "        result += \", \"\n",
    "        count = 0\n",
    "    else:\n",
    "        que.append(que.pop(0))\n",
    "result += \">\"\n",
    "print(result)"
   ]
  }
 ],
 "metadata": {
  "kernelspec": {
   "display_name": "Python 3",
   "language": "python",
   "name": "python3"
  },
  "language_info": {
   "codemirror_mode": {
    "name": "ipython",
    "version": 3
   },
   "file_extension": ".py",
   "mimetype": "text/x-python",
   "name": "python",
   "nbconvert_exporter": "python",
   "pygments_lexer": "ipython3",
   "version": "3.6.4"
  }
 },
 "nbformat": 4,
 "nbformat_minor": 2
}
